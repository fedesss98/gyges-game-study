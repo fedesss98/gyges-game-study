{
 "cells": [
  {
   "cell_type": "markdown",
   "id": "2e9bb805",
   "metadata": {},
   "source": [
    "# Encoding the Game"
   ]
  },
  {
   "cell_type": "code",
   "execution_count": 1,
   "id": "a34d0232",
   "metadata": {},
   "outputs": [],
   "source": [
    "import json\n",
    "import numpy as np"
   ]
  },
  {
   "cell_type": "code",
   "execution_count": 26,
   "id": "e9bf810c",
   "metadata": {},
   "outputs": [
    {
     "data": {
      "text/plain": [
       "{'name': 'mygame_0.json',\n",
       " 'player0': {'name': 'B', 'seed': 42, 'starting config': [2, 1, 3, 3, 1, 2]},\n",
       " 'player1': {'name': 'W', 'seed': 346, 'starting config': [3, 3, 1, 1, 2, 2]},\n",
       " 'winning player': 0}"
      ]
     },
     "execution_count": 26,
     "metadata": {},
     "output_type": "execute_result"
    }
   ],
   "source": [
    "GAME_PATH = \"mygame_0.json\"\n",
    "BOARD_SIZE = 6\n",
    "DISCOUNT = 1.0\n",
    "\n",
    "with open(GAME_PATH, \"r\") as game_file:\n",
    "    game = json.load(game_file)\n",
    "\n",
    "game[\"meta\"]"
   ]
  },
  {
   "cell_type": "code",
   "execution_count": 27,
   "id": "b2f6399b",
   "metadata": {},
   "outputs": [
    {
     "data": {
      "text/plain": [
       "7"
      ]
     },
     "execution_count": 27,
     "metadata": {},
     "output_type": "execute_result"
    }
   ],
   "source": [
    "len(game)"
   ]
  },
  {
   "cell_type": "code",
   "execution_count": 28,
   "id": "f1915b5d",
   "metadata": {},
   "outputs": [
    {
     "data": {
      "text/plain": [
       "1"
      ]
     },
     "execution_count": 28,
     "metadata": {},
     "output_type": "execute_result"
    }
   ],
   "source": [
    "# 0 - 7\n",
    "# 1 - 1\n",
    "(8 + 1) % 8"
   ]
  },
  {
   "cell_type": "code",
   "execution_count": 38,
   "id": "e4407c89",
   "metadata": {},
   "outputs": [
    {
     "name": "stdout",
     "output_type": "stream",
     "text": [
      "Player 1\n",
      "Reward at step 0:\n",
      "[[-0.83333333 -0.83333333 -0.83333333 -0.83333333 -0.83333333 -0.83333333]\n",
      " [-0.83333333 -0.83333333 -0.83333333 -0.83333333 -0.83333333 -0.83333333]\n",
      " [-0.83333333 -0.83333333 -0.83333333 -0.83333333 -0.83333333 -0.83333333]\n",
      " [-0.83333333 -0.83333333 -0.83333333 -0.83333333 -0.83333333 -0.83333333]\n",
      " [-0.83333333 -0.83333333 -0.83333333 -0.83333333 -0.83333333 -0.83333333]\n",
      " [-0.83333333 -0.83333333 -0.83333333 -0.83333333 -0.83333333 -0.83333333]\n",
      " [-0.83333333 -0.83333333 -0.83333333 -0.83333333 -0.83333333 -0.83333333]\n",
      " [-0.83333333 -0.83333333 -0.83333333 -0.83333333 -0.83333333 -0.83333333]]\n",
      "Player 0\n",
      "Reward at step 1:\n",
      "[[0.2 0.2 0.2 0.2 0.2 0.2]\n",
      " [0.2 0.2 0.2 0.2 0.2 0.2]\n",
      " [0.2 0.2 0.2 0.2 0.2 0.2]\n",
      " [0.2 0.2 0.2 0.2 0.2 0.2]\n",
      " [0.2 0.2 0.2 0.2 0.2 0.2]\n",
      " [0.2 0.2 0.2 0.2 0.2 0.2]\n",
      " [0.2 0.2 0.2 0.2 0.2 0.2]\n",
      " [0.2 0.2 0.2 0.2 0.2 0.2]]\n",
      "Player 1\n",
      "Reward at step 2:\n",
      "[[-1.25 -1.25 -1.25 -1.25 -1.25 -1.25]\n",
      " [-1.25 -1.25 -1.25 -1.25 -1.25 -1.25]\n",
      " [-1.25 -1.25 -1.25 -1.25 -1.25 -1.25]\n",
      " [-1.25 -1.25 -1.25 -1.25 -1.25 -1.25]\n",
      " [-1.25 -1.25 -1.25 -1.25 -1.25 -1.25]\n",
      " [-1.25 -1.25 -1.25 -1.25 -1.25 -1.25]\n",
      " [-1.25 -1.25 -1.25 -1.25 -1.25 -1.25]\n",
      " [-1.25 -1.25 -1.25 -1.25 -1.25 -1.25]]\n",
      "Player 0\n",
      "Reward at step 3:\n",
      "[[0.33333333 0.33333333 0.33333333 0.33333333 0.33333333 0.33333333]\n",
      " [0.33333333 0.33333333 0.33333333 0.33333333 0.33333333 0.33333333]\n",
      " [0.33333333 0.33333333 0.33333333 0.33333333 0.33333333 0.33333333]\n",
      " [0.33333333 0.33333333 0.33333333 0.33333333 0.33333333 0.33333333]\n",
      " [0.33333333 0.33333333 0.33333333 0.33333333 0.33333333 0.33333333]\n",
      " [0.33333333 0.33333333 0.33333333 0.33333333 0.33333333 0.33333333]\n",
      " [0.33333333 0.33333333 0.33333333 0.33333333 0.33333333 0.33333333]\n",
      " [0.33333333 0.33333333 0.33333333 0.33333333 0.33333333 0.33333333]]\n",
      "Player 1\n",
      "Reward at step 4:\n",
      "[[-2.5 -2.5 -2.5 -2.5 -2.5 -2.5]\n",
      " [-2.5 -2.5 -2.5 -2.5 -2.5 -2.5]\n",
      " [-2.5 -2.5 -2.5 -2.5 -2.5 -2.5]\n",
      " [-2.5 -2.5 -2.5 -2.5 -2.5 -2.5]\n",
      " [-2.5 -2.5 -2.5 -2.5 -2.5 -2.5]\n",
      " [-2.5 -2.5 -2.5 -2.5 -2.5 -2.5]\n",
      " [-2.5 -2.5 -2.5 -2.5 -2.5 -2.5]\n",
      " [-2.5 -2.5 -2.5 -2.5 -2.5 -2.5]]\n",
      "Player 0\n",
      "Reward at step 5:\n",
      "[[1. 1. 1. 1. 1. 1.]\n",
      " [1. 1. 1. 1. 1. 1.]\n",
      " [1. 1. 1. 1. 1. 1.]\n",
      " [1. 1. 1. 1. 1. 1.]\n",
      " [1. 1. 1. 1. 1. 1.]\n",
      " [1. 1. 1. 1. 1. 1.]\n",
      " [1. 1. 1. 1. 1. 1.]\n",
      " [1. 1. 1. 1. 1. 1.]]\n"
     ]
    }
   ],
   "source": [
    "for timestep in range(6):\n",
    "    game_step = game[str(timestep)]\n",
    "    moves_ahead = len(game) - 1 - timestep\n",
    "    if timestep == 0:\n",
    "        initial_board_state = np.zeros((8,6))\n",
    "        for player in [0, 1]:\n",
    "            starting_config = game[\"meta\"][f\"player{player}\"][\"starting config\"]\n",
    "            row = (BOARD_SIZE) * (1 - player) + player\n",
    "            initial_board_state[row, :] = np.array(starting_config) / 24.\n",
    "    else:\n",
    "        initial_board_state = np.array(game[str(timestep - 1)][-1])\n",
    "\n",
    "    final_board_state = game_step[-1]\n",
    "    active_player = (timestep + 1) % 2\n",
    "    print(f'Player {active_player}')\n",
    "    players_channels = np.array(\n",
    "        [np.zeros((8,6)), np.zeros((8,6))]\n",
    "    )\n",
    "    players_channels[active_player] = np.ones((8, 6))\n",
    "    # print(f'Player Channels:\\n{players_channels}')\n",
    "\n",
    "    home_row = np.zeros((8, 6))\n",
    "    home_row[-active_player, :] = 1.\n",
    "    # print(f'Home Row:\\n{home_row}')\n",
    "\n",
    "    reverse_index = active_player * 2 - 1\n",
    "    valid_starting_row = np.argmax(np.any(initial_board_state[::reverse_index], axis=1))\n",
    "    valid_starting_pos = np.zeros((8, 6))\n",
    "    valid_starting_pos[valid_starting_row, :] = 1.\n",
    "    valid_starting_pos = valid_starting_pos[::reverse_index]\n",
    "    valid_pieces = valid_starting_pos * initial_board_state\n",
    "    # print(f'Valid starting pieces:\\n{valid_pieces}')\n",
    "\n",
    "    reward = 1.0 if active_player == game[\"meta\"][\"winning player\"] else -5\n",
    "    # print(reward)\n",
    "    reward *= DISCOUNT / moves_ahead\n",
    "    reward = np.full((8, 6), reward)\n",
    "    print(f'Reward at step {timestep}:\\n{reward}')"
   ]
  },
  {
   "cell_type": "markdown",
   "id": "b3976ead",
   "metadata": {},
   "source": [
    "## Create the Encoder Class"
   ]
  },
  {
   "cell_type": "code",
   "execution_count": 42,
   "id": "47b59bf2",
   "metadata": {},
   "outputs": [
    {
     "data": {
      "text/plain": [
       "'12'"
      ]
     },
     "execution_count": 42,
     "metadata": {},
     "output_type": "execute_result"
    }
   ],
   "source": [
    "a = \"1\"\n",
    "a + \"2\""
   ]
  },
  {
   "cell_type": "code",
   "execution_count": 69,
   "id": "400cc926",
   "metadata": {},
   "outputs": [
    {
     "name": "stdout",
     "output_type": "stream",
     "text": [
      "Loaded game 'mygame_0.json' with a 6 rounds game.\n"
     ]
    },
    {
     "data": {
      "text/plain": [
       "array([-0.83333333, -1.25      , -2.5       ])"
      ]
     },
     "execution_count": 69,
     "metadata": {},
     "output_type": "execute_result"
    }
   ],
   "source": [
    "class GameEncoder:\n",
    "    def __init__(self, game_path, discount=1.0):\n",
    "        with open(game_path, \"r\") as game_file:\n",
    "            self.game = json.load(game_file)\n",
    "\n",
    "        self.game_len = len(self.game) - 1\n",
    "        print(f\"Loaded game '{game_path}' with a {self.game_len} rounds game.\")\n",
    "        if isinstance(discount, float):\n",
    "            self.discount = np.array(discount for _ in range(self.game_len))\n",
    "        elif isinstance(discount, (tuple, np.ndarray)):\n",
    "            self.discount = discount\n",
    "        \n",
    "        self.player_channels = np.empty((self.game_len, 2, 8, 6))\n",
    "        self.home_row = np.empty((self.game_len, 8, 6))\n",
    "        self.initial_board_state = np.empty((self.game_len, 8, 6))\n",
    "        self.final_board_state = np.empty((self.game_len, 8, 6))\n",
    "        self.valid_pieces = np.empty((self.game_len, 8, 6))\n",
    "        self.rewards = np.empty((self.game_len, 8, 6))\n",
    "\n",
    "        for timestep in range(self.game_len):\n",
    "            game_step = game[str(timestep)]\n",
    "            moves_ahead = self.game_len - timestep\n",
    "            if timestep == 0:\n",
    "                initial_board_state = np.zeros((8,6))\n",
    "                for player in [0, 1]:\n",
    "                    starting_config = game[\"meta\"][f\"player{player}\"][\"starting config\"]\n",
    "                    row = (BOARD_SIZE) * (1 - player) + player\n",
    "                    initial_board_state[row, :] = np.array(starting_config) / 24.\n",
    "            else:\n",
    "                initial_board_state = np.array(game[str(timestep - 1)][-1])\n",
    "\n",
    "            final_board_state = game_step[-1]\n",
    "            self.initial_board_state[timestep] = initial_board_state\n",
    "            self.final_board_state[timestep] = final_board_state\n",
    "\n",
    "            active_player = (timestep + 1) % 2\n",
    "            players_channels = np.array(\n",
    "                [np.zeros((8,6)), np.zeros((8,6))]\n",
    "            )\n",
    "            players_channels[active_player] = np.ones((8, 6))\n",
    "            self.player_channels[timestep] = players_channels\n",
    "\n",
    "            home_row = np.zeros((8, 6))\n",
    "            home_row[-active_player, :] = 1.\n",
    "            self.home_row[timestep] = home_row\n",
    "\n",
    "            reverse_index = active_player * 2 - 1\n",
    "            valid_starting_row = np.argmax(np.any(initial_board_state[::reverse_index], axis=1))\n",
    "            valid_starting_pos = np.zeros((8, 6))\n",
    "            valid_starting_pos[valid_starting_row, :] = 1.\n",
    "            valid_starting_pos = valid_starting_pos[::reverse_index]\n",
    "            self.valid_pieces[timestep] = valid_starting_pos * initial_board_state\n",
    "\n",
    "            reward = 1.0 if active_player == game[\"meta\"][\"winning player\"] else -5\n",
    "            reward *= DISCOUNT / moves_ahead\n",
    "            self.rewards[timestep] = np.full((8, 6), reward)\n",
    "\n",
    "\n",
    "    def __repr__(self):\n",
    "        string = \"\"\n",
    "        for key, value in self.game[\"meta\"].items():\n",
    "            string += f\"{key}:\\n  {value}\\n\"\n",
    "        return string\n",
    "    \n",
    "data = GameEncoder(GAME_PATH)\n",
    "data.rewards[::2, 0, 0]"
   ]
  }
 ],
 "metadata": {
  "kernelspec": {
   "display_name": ".venv",
   "language": "python",
   "name": "python3"
  },
  "language_info": {
   "codemirror_mode": {
    "name": "ipython",
    "version": 3
   },
   "file_extension": ".py",
   "mimetype": "text/x-python",
   "name": "python",
   "nbconvert_exporter": "python",
   "pygments_lexer": "ipython3",
   "version": "3.12.3"
  }
 },
 "nbformat": 4,
 "nbformat_minor": 5
}
