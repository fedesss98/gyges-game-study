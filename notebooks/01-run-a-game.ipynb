{
 "cells": [
  {
   "cell_type": "markdown",
   "id": "dd879228",
   "metadata": {},
   "source": [
    "# Run a Gyges Game and Encode it"
   ]
  },
  {
   "cell_type": "code",
   "execution_count": 7,
   "id": "748f1e91",
   "metadata": {},
   "outputs": [],
   "source": [
    "import numpy as np\n",
    "import sys\n",
    "\n",
    "sys.path.append(\"../\")\n",
    "from src.players import Player\n",
    "from src.game_engine import GygesGame\n",
    "\n",
    "\n",
    "SEED = 532\n",
    "rng = np.random.default_rng(seed=SEED)"
   ]
  },
  {
   "cell_type": "code",
   "execution_count": 8,
   "id": "44b09ff5",
   "metadata": {},
   "outputs": [
    {
     "name": "stdout",
     "output_type": "stream",
     "text": [
      "Added player: B to the game.\n",
      "Added player: W to the game.\n"
     ]
    }
   ],
   "source": [
    "\n",
    "starting_config = [2,1,3,3,1,2]\n",
    "    \n",
    "random_config = [2, 1, 3, 3, 1, 2]\n",
    "rng.shuffle(random_config)\n",
    "\n",
    "pw = Player(\"W\", soul='random', seed=SEED, verbose=True)\n",
    "w_starting_config = random_config\n",
    "pb = Player(\"B\", soul='human', verbose=True)\n",
    "b_starting_config = starting_config\n",
    "\n",
    "game = GygesGame(w_starting_config, b_starting_config)\n",
    "game.add_players(pb, pw)\n"
   ]
  },
  {
   "cell_type": "code",
   "execution_count": 9,
   "id": "5759006b",
   "metadata": {},
   "outputs": [
    {
     "name": "stdout",
     "output_type": "stream",
     "text": [
      "Starting a new game of Gyges!\n",
      "\n",
      "Initial configuration:\n",
      "W|  -   -   -   -   -   -  |\n",
      "1|  2   3   1   1   2   3  |\n",
      "2|  0   0   0   0   0   0  |\n",
      "3|  0   0   0   0   0   0  |\n",
      "4|  0   0   0   0   0   0  |\n",
      "5|  0   0   0   0   0   0  |\n",
      "6|  2   1   3   3   1   2  |\n",
      "B|  -   -   -   -   -   -  |\n",
      "    0   1   2   3   4   5  \n",
      "Player W turn.\n",
      "\n",
      "W: select cell (1, 4) with value 2.\n",
      "  strategy: [[2, 2]]\n",
      "W|  -   -   -   -   -   -  |\n",
      "1|  2   3   1   1   x   3  |\n",
      "2|  0   0   0   0   x   0  |\n",
      "3|  0   0   0   0   2   0  |\n",
      "4|  0   0   0   0   0   0  |\n",
      "5|  0   0   0   0   0   0  |\n",
      "6|  2   1   3   3   1   2  |\n",
      "B|  -   -   -   -   -   -  |\n",
      "    0   1   2   3   4   5  \n",
      "Player B turn.\n",
      "\n",
      "B: select cell (-2, 2) with value 3.\n",
      " you jumped on piece with value 3, continue...\n",
      "  strategy: [[1, 4, 2], [1, 1, 1]]\n",
      "W|  -   -   -   -   -   -  |\n",
      "1|  2   3   1   1   0   3  |\n",
      "2|  0   0   0   0   0   0  |\n",
      "3|  0   0   0   3   2   0  |\n",
      "4|  0   0   0   x   0   0  |\n",
      "5|  0   0   x   x   0   0  |\n",
      "6|  2   1   x  3x   1   2  |\n",
      "B|  -   -   -   -   -   -  |\n",
      "    0   1   2   3   4   5  \n",
      "Player W turn.\n",
      "\n",
      "W: select cell (1, 0) with value 2.\n",
      "  strategy: [[2, 4]]\n",
      "W|  -   -   -   -   -   -  |\n",
      "1|  x   3   1   1   0   3  |\n",
      "2|  x   2   0   0   0   0  |\n",
      "3|  0   0   0   3   2   0  |\n",
      "4|  0   0   0   0   0   0  |\n",
      "5|  0   0   0   0   0   0  |\n",
      "6|  2   1   0   3   1   2  |\n",
      "B|  -   -   -   -   -   -  |\n",
      "    0   1   2   3   4   5  \n",
      "Player B turn.\n",
      "\n",
      "B: select cell (-2, 5) with value 2.\n",
      "  strategy: [[1, 3]]\n",
      "W|  -   -   -   -   -   -  |\n",
      "1|  0   3   1   1   0   3  |\n",
      "2|  0   2   0   0   0   0  |\n",
      "3|  0   0   0   3   2   0  |\n",
      "4|  0   0   0   0   0   0  |\n",
      "5|  0   0   0   0   2   x  |\n",
      "6|  2   1   0   3   1   x  |\n",
      "B|  -   -   -   -   -   -  |\n",
      "    0   1   2   3   4   5  \n",
      "Player W turn.\n",
      "\n",
      "W: select cell (1, 5) with value 3.\n",
      "  strategy: [[3, 2, 2], [1, 3]]\n",
      "W|  -   -   -   -   -   -  |\n",
      "1|  0   3   1   1   x   x  |\n",
      "2|  0   2   0   3   x   0  |\n",
      "3|  0   0   0   3  2x   0  |\n",
      "4|  0   0   0   0   0   0  |\n",
      "5|  0   0   0   0   2   0  |\n",
      "6|  2   1   0   3   1   0  |\n",
      "B|  -   -   -   -   -   -  |\n",
      "    0   1   2   3   4   5  \n",
      "Player B turn.\n",
      "\n",
      "B: select cell (-2, 3) with value 3.\n",
      " you jumped on piece with value 3, continue...\n",
      " invalid sequence of moves [1, 3, 1]\n",
      " you jumped on piece with value 1, continue...\n",
      "  strategy: [[1, 1, 1], [3, 1, 1], [1]]\n",
      "W|  -   -   -   -   -   -  |\n",
      "1|  0   3  3x   1   0   0  |\n",
      "2|  0   2   x   3   0   0  |\n",
      "3|  0   0   x  3x   2   0  |\n",
      "4|  0   0   0   x   0   0  |\n",
      "5|  0   0   0   x   2   0  |\n",
      "6|  2   1   0   x   1   0  |\n",
      "B|  -   -   -   -   -   -  |\n",
      "    0   1   2   3   4   5  \n",
      "PLAYER B WINS!\n",
      "\n",
      "W|  -   -   -   -   -   -  |\n",
      "1|  0   3  3x   1   0   0  |\n",
      "2|  0   2   x   3   0   0  |\n",
      "3|  0   0   x  3x   2   0  |\n",
      "4|  0   0   0   x   0   0  |\n",
      "5|  0   0   0   x   2   0  |\n",
      "6|  2   1   0   x   1   0  |\n",
      "B|  -   -   -   -   -   -  |\n",
      "    0   1   2   3   4   5  \n",
      "PLAYER B WINS!\n",
      "\n"
     ]
    }
   ],
   "source": [
    "game.start()\n",
    "game.play_game(max_turns=1000, verbose=True)"
   ]
  },
  {
   "cell_type": "code",
   "execution_count": 11,
   "id": "18c24b07",
   "metadata": {},
   "outputs": [
    {
     "data": {
      "text/plain": [
       "[(-2, 2),\n",
       " [1, 4, 2, 1, 1, 1],\n",
       " [[0.0, 0.0, 0.0, 0.0, 0.0, 0.0],\n",
       "  [0.08333333333333333,\n",
       "   0.125,\n",
       "   0.041666666666666664,\n",
       "   0.041666666666666664,\n",
       "   0.0,\n",
       "   0.125],\n",
       "  [0.0, 0.0, 0.0, 0.0, 0.0, 0.0],\n",
       "  [0.0, 0.0, 0.0, 0.125, 0.08333333333333333, 0.0],\n",
       "  [0.0, 0.0, 0.0, 0.0, 0.0, 0.0],\n",
       "  [0.0, 0.0, 0.0, 0.0, 0.0, 0.0],\n",
       "  [0.08333333333333333,\n",
       "   0.041666666666666664,\n",
       "   0.0,\n",
       "   0.125,\n",
       "   0.041666666666666664,\n",
       "   0.08333333333333333],\n",
       "  [0.0, 0.0, 0.0, 0.0, 0.0, 0.0]]]"
      ]
     },
     "execution_count": 11,
     "metadata": {},
     "output_type": "execute_result"
    }
   ],
   "source": [
    "game.game_data[1]"
   ]
  },
  {
   "cell_type": "markdown",
   "id": "6be946f6",
   "metadata": {},
   "source": [
    "## Encoding the Game"
   ]
  },
  {
   "cell_type": "code",
   "execution_count": 85,
   "id": "440629d7",
   "metadata": {},
   "outputs": [
    {
     "name": "stdout",
     "output_type": "stream",
     "text": [
      "Player 0\n",
      "Valid starting positions:\n",
      "[[0. 0. 0. 0. 0. 0.]\n",
      " [1. 1. 1. 1. 1. 1.]\n",
      " [0. 0. 0. 0. 0. 0.]\n",
      " [0. 0. 0. 0. 0. 0.]\n",
      " [0. 0. 0. 0. 0. 0.]\n",
      " [0. 0. 0. 0. 0. 0.]\n",
      " [0. 0. 0. 0. 0. 0.]\n",
      " [0. 0. 0. 0. 0. 0.]]\n"
     ]
    }
   ],
   "source": [
    "timestep = 2\n",
    "game_step = game.game_data[timestep]\n",
    "\n",
    "active_player = timestep % 2\n",
    "print(f'Player {active_player}')\n",
    "players_channels = np.array(\n",
    "    [np.zeros((8,6)), np.zeros((8,6))]\n",
    ")\n",
    "players_channels[active_player] = np.ones((8, 6))\n",
    "# print(f'Player Channels:\\n{players_channels}')\n",
    "\n",
    "home_row = np.zeros((8, 6))\n",
    "home_row[active_player - 1, :] = 1.\n",
    "# print(f'Home Row:\\n{home_row}')\n",
    "\n",
    "reverse_index = (1 - active_player) * 2 - 1\n",
    "valid_starting_row = np.argmax(np.any(game_step[-1][::reverse_index], axis=1))\n",
    "valid_starting_pos = np.zeros((8, 6))\n",
    "valid_starting_pos[valid_starting_row, :] = 1.\n",
    "valid_starting_pos = valid_starting_pos[::reverse_index]\n",
    "print(f'Valid starting positions:\\n{valid_starting_pos}')"
   ]
  },
  {
   "cell_type": "code",
   "execution_count": 86,
   "id": "e779469c",
   "metadata": {},
   "outputs": [
    {
     "data": {
      "text/plain": [
       "array([[0.        , 0.        , 0.        , 0.        , 0.        ,\n",
       "        0.        ],\n",
       "       [0.        , 0.125     , 0.04166667, 0.04166667, 0.        ,\n",
       "        0.125     ],\n",
       "       [0.        , 0.        , 0.        , 0.        , 0.        ,\n",
       "        0.        ],\n",
       "       [0.        , 0.        , 0.        , 0.        , 0.        ,\n",
       "        0.        ],\n",
       "       [0.        , 0.        , 0.        , 0.        , 0.        ,\n",
       "        0.        ],\n",
       "       [0.        , 0.        , 0.        , 0.        , 0.        ,\n",
       "        0.        ],\n",
       "       [0.        , 0.        , 0.        , 0.        , 0.        ,\n",
       "        0.        ],\n",
       "       [0.        , 0.        , 0.        , 0.        , 0.        ,\n",
       "        0.        ]])"
      ]
     },
     "execution_count": 86,
     "metadata": {},
     "output_type": "execute_result"
    }
   ],
   "source": [
    "np.array(game_step[-1]) * valid_starting_pos"
   ]
  },
  {
   "cell_type": "code",
   "execution_count": null,
   "id": "f53257f9",
   "metadata": {},
   "outputs": [
    {
     "name": "stdout",
     "output_type": "stream",
     "text": [
      "Valid starting positions:\n",
      "[[0. 0. 0. 0. 0. 0.]\n",
      " [1. 1. 1. 1. 1. 1.]\n",
      " [0. 0. 0. 0. 0. 0.]\n",
      " [0. 0. 0. 0. 0. 0.]\n",
      " [0. 0. 0. 0. 0. 0.]\n",
      " [0. 0. 0. 0. 0. 0.]\n",
      " [0. 0. 0. 0. 0. 0.]\n",
      " [0. 0. 0. 0. 0. 0.]]\n"
     ]
    }
   ],
   "source": [
    "\n"
   ]
  }
 ],
 "metadata": {
  "kernelspec": {
   "display_name": ".venv",
   "language": "python",
   "name": "python3"
  },
  "language_info": {
   "codemirror_mode": {
    "name": "ipython",
    "version": 3
   },
   "file_extension": ".py",
   "mimetype": "text/x-python",
   "name": "python",
   "nbconvert_exporter": "python",
   "pygments_lexer": "ipython3",
   "version": "3.12.3"
  }
 },
 "nbformat": 4,
 "nbformat_minor": 5
}
