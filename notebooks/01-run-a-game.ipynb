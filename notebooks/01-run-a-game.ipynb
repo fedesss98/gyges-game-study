{
 "cells": [
  {
   "cell_type": "markdown",
   "id": "dd879228",
   "metadata": {},
   "source": [
    "# Run a Gyges Game and Encode it"
   ]
  },
  {
   "cell_type": "code",
   "execution_count": 8,
   "id": "748f1e91",
   "metadata": {},
   "outputs": [],
   "source": [
    "import numpy as np\n",
    "import sys\n",
    "\n",
    "sys.path.append(\"../\")\n",
    "from src.players import Player\n",
    "from src.game_engine import GygesGame\n",
    "\n",
    "\n",
    "SEED = 346\n",
    "rng = np.random.default_rng(seed=SEED)"
   ]
  },
  {
   "cell_type": "code",
   "execution_count": 9,
   "id": "44b09ff5",
   "metadata": {},
   "outputs": [
    {
     "name": "stdout",
     "output_type": "stream",
     "text": [
      "Added player: B to the game.\n",
      "Added player: W to the game.\n"
     ]
    }
   ],
   "source": [
    "\n",
    "starting_config = [2,1,3,3,1,2]\n",
    "    \n",
    "random_config = [2, 1, 3, 3, 1, 2]\n",
    "rng.shuffle(random_config)\n",
    "\n",
    "pw = Player(\"W\", soul='random', seed=SEED, verbose=True)\n",
    "w_starting_config = random_config\n",
    "pb = Player(\"B\", soul='human', verbose=True)\n",
    "b_starting_config = starting_config\n",
    "\n",
    "game = GygesGame(w_starting_config, b_starting_config)\n",
    "game.add_players(pb, pw)\n"
   ]
  },
  {
   "cell_type": "code",
   "execution_count": 10,
   "id": "5759006b",
   "metadata": {},
   "outputs": [
    {
     "name": "stdout",
     "output_type": "stream",
     "text": [
      "Starting a new game of Gyges!\n",
      "\n",
      "Initial configuration:\n",
      "W|  -   -   -   -   -   -  |\n",
      "1|  3   3   1   1   2   2  |\n",
      "2|  0   0   0   0   0   0  |\n",
      "3|  0   0   0   0   0   0  |\n",
      "4|  0   0   0   0   0   0  |\n",
      "5|  0   0   0   0   0   0  |\n",
      "6|  2   1   3   3   1   2  |\n",
      "B|  -   -   -   -   -   -  |\n",
      "    0   1   2   3   4   5  \n",
      "Player W turn.\n",
      "\n",
      "W: select cell (1, 3) with value 1.\n",
      "  strategy: [[3], [3], [2, 4, 2]]\n",
      "W|  -   -   -   -   -   -  |\n",
      "1|  3  3x  1x   x   2   2  |\n",
      "2|  0   x   x   0   0   0  |\n",
      "3|  0   0   1   0   0   0  |\n",
      "4|  0   0   0   0   0   0  |\n",
      "5|  0   0   0   0   0   0  |\n",
      "6|  2   1   3   3   1   2  |\n",
      "B|  -   -   -   -   -   -  |\n",
      "    0   1   2   3   4   5  \n",
      "Player B turn.\n",
      "\n",
      "B: select cell (-2, 2) with value 3.\n",
      " you jumped on piece with value 1, continue...\n",
      "  strategy: [[1, 1, 1], [1]]\n",
      "W|  -   -   -   -   -   -  |\n",
      "1|  3   3   1   0   2   2  |\n",
      "2|  0   0   3   0   0   0  |\n",
      "3|  0   0  1x   0   0   0  |\n",
      "4|  0   0   x   0   0   0  |\n",
      "5|  0   0   x   0   0   0  |\n",
      "6|  2   1   x   3   1   2  |\n",
      "B|  -   -   -   -   -   -  |\n",
      "    0   1   2   3   4   5  \n",
      "Player W turn.\n",
      "\n",
      "W: select cell (1, 2) with value 1.\n",
      "  strategy: [[3], [2, 2, 4], [3]]\n",
      "W|  -   -   -   -   -   -  |\n",
      "1|  3  3x   x   0   2   2  |\n",
      "2|  0   x   3   0   0   0  |\n",
      "3|  0  1x  1x   0   0   0  |\n",
      "4|  0   0   0   0   0   0  |\n",
      "5|  0   0   0   0   0   0  |\n",
      "6|  2   1   0   3   1   2  |\n",
      "B|  -   -   -   -   -   -  |\n",
      "    0   1   2   3   4   5  \n",
      "Player B turn.\n",
      "\n",
      "B: select cell (-2, 3) with value 3.\n",
      "  strategy: [[1, 3, 2]]\n",
      "W|  -   -   -   -   -   -  |\n",
      "1|  3   3   0   0   2   2  |\n",
      "2|  0   0   3   0   0   0  |\n",
      "3|  0   1   1   0   0   0  |\n",
      "4|  0   0   0   0   0   0  |\n",
      "5|  0   0   x   x   0   0  |\n",
      "6|  2   1   3   x   1   2  |\n",
      "B|  -   -   -   -   -   -  |\n",
      "    0   1   2   3   4   5  \n",
      "Player W turn.\n",
      "\n",
      "W: select cell (1, 0) with value 3.\n",
      "  strategy: [[2, 2, 1]]\n",
      "W|  -   -   -   -   -   -  |\n",
      "1|  x   3   0   0   2   2  |\n",
      "2| 3x   0   3   0   0   0  |\n",
      "3|  x   1   1   0   0   0  |\n",
      "4|  0   0   0   0   0   0  |\n",
      "5|  0   0   0   0   0   0  |\n",
      "6|  2   1   3   0   1   2  |\n",
      "B|  -   -   -   -   -   -  |\n",
      "    0   1   2   3   4   5  \n",
      "Player B turn.\n",
      "\n",
      "B: select cell (-2, 1) with value 1.\n",
      " you jumped on piece with value 3, continue...\n",
      " you jumped on piece with value 1, continue...\n",
      " you jumped on piece with value 3, continue...\n",
      "  strategy: [[4], [1, 1, 1], [1], [4, 1, 1]]\n",
      "W|  -   -   -   -   -   -  |\n",
      "1|  0   3   0   x   2   2  |\n",
      "2|  3   0  1x   x   0   0  |\n",
      "3|  0   1  1x   0   0   0  |\n",
      "4|  0   0   x   0   0   0  |\n",
      "5|  0   0   x   0   0   0  |\n",
      "6|  2   x  3x   0   1   2  |\n",
      "B|  -   -   -   -   -   -  |\n",
      "    0   1   2   3   4   5  \n",
      "PLAYER B WINS!\n",
      "\n",
      "W|  -   -   -   -   -   -  |\n",
      "1|  0   3   0   x   2   2  |\n",
      "2|  3   0  1x   x   0   0  |\n",
      "3|  0   1  1x   0   0   0  |\n",
      "4|  0   0   x   0   0   0  |\n",
      "5|  0   0   x   0   0   0  |\n",
      "6|  2   x  3x   0   1   2  |\n",
      "B|  -   -   -   -   -   -  |\n",
      "    0   1   2   3   4   5  \n",
      "PLAYER B WINS!\n",
      "\n"
     ]
    }
   ],
   "source": [
    "game.start()\n",
    "game.play_game(max_turns=1000, verbose=True)"
   ]
  },
  {
   "cell_type": "code",
   "execution_count": 11,
   "id": "a1442c20",
   "metadata": {},
   "outputs": [],
   "source": [
    "game.save(\"mygame_0.json\")"
   ]
  },
  {
   "cell_type": "code",
   "execution_count": 12,
   "id": "0dc7c52b",
   "metadata": {},
   "outputs": [
    {
     "data": {
      "text/plain": [
       "0"
      ]
     },
     "execution_count": 12,
     "metadata": {},
     "output_type": "execute_result"
    }
   ],
   "source": [
    "game.winning_player"
   ]
  }
 ],
 "metadata": {
  "kernelspec": {
   "display_name": ".venv",
   "language": "python",
   "name": "python3"
  },
  "language_info": {
   "codemirror_mode": {
    "name": "ipython",
    "version": 3
   },
   "file_extension": ".py",
   "mimetype": "text/x-python",
   "name": "python",
   "nbconvert_exporter": "python",
   "pygments_lexer": "ipython3",
   "version": "3.12.3"
  }
 },
 "nbformat": 4,
 "nbformat_minor": 5
}
