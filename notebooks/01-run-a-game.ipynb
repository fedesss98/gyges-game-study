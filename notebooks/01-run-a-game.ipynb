{
 "cells": [
  {
   "cell_type": "markdown",
   "id": "dd879228",
   "metadata": {},
   "source": [
    "# Run a Gyges Game and Encode it"
   ]
  },
  {
   "cell_type": "code",
   "execution_count": 2,
   "id": "748f1e91",
   "metadata": {},
   "outputs": [],
   "source": [
    "import numpy as np\n",
    "import sys\n",
    "\n",
    "sys.path.append(\"../\")\n",
    "from src.players import Player\n",
    "from src.game_engine import GygesGame\n",
    "\n",
    "\n",
    "SEED = 346\n",
    "rng = np.random.default_rng(seed=SEED)"
   ]
  },
  {
   "cell_type": "code",
   "execution_count": 3,
   "id": "44b09ff5",
   "metadata": {},
   "outputs": [
    {
     "name": "stdout",
     "output_type": "stream",
     "text": [
      "Added player: B to the game.\n",
      "Added player: W to the game.\n"
     ]
    }
   ],
   "source": [
    "\n",
    "starting_config = [2,1,3,3,1,2]\n",
    "    \n",
    "random_config = [2, 1, 3, 3, 1, 2]\n",
    "rng.shuffle(random_config)\n",
    "\n",
    "pw = Player(\"W\", soul='random', seed=SEED, verbose=True)\n",
    "w_starting_config = random_config\n",
    "pb = Player(\"B\", soul='human', verbose=True)\n",
    "b_starting_config = starting_config\n",
    "\n",
    "game = GygesGame(w_starting_config, b_starting_config)\n",
    "game.add_players(pb, pw)\n"
   ]
  },
  {
   "cell_type": "code",
   "execution_count": 4,
   "id": "5759006b",
   "metadata": {},
   "outputs": [
    {
     "name": "stdout",
     "output_type": "stream",
     "text": [
      "Starting a new game of Gyges!\n",
      "\n",
      "Initial configuration:\n",
      "W|  -   -   -   -   -   -  |\n",
      "1|  3   3   1   1   2   2  |\n",
      "2|  0   0   0   0   0   0  |\n",
      "3|  0   0   0   0   0   0  |\n",
      "4|  0   0   0   0   0   0  |\n",
      "5|  0   0   0   0   0   0  |\n",
      "6|  2   1   3   3   1   2  |\n",
      "B|  -   -   -   -   -   -  |\n",
      "    0   1   2   3   4   5  \n",
      "Player W turn.\n",
      "\n",
      "W: select cell (1, 3) with value 1.\n",
      "  strategy: [[3], [3], [2, 4, 2]]\n",
      "W|  -   -   -   -   -   -  |\n",
      "1|  3  3x  1x   x   2   2  |\n",
      "2|  0   x   x   0   0   0  |\n",
      "3|  0   0   1   0   0   0  |\n",
      "4|  0   0   0   0   0   0  |\n",
      "5|  0   0   0   0   0   0  |\n",
      "6|  2   1   3   3   1   2  |\n",
      "B|  -   -   -   -   -   -  |\n",
      "    0   1   2   3   4   5  \n",
      "Player B turn.\n",
      "\n",
      "\n",
      "*** Player B concedes ***\n",
      "\n",
      "W|  -   -   -   -   -   -  |\n",
      "1|  3  3x  1x   x   2   2  |\n",
      "2|  0   x   x   0   0   0  |\n",
      "3|  0   0   1   0   0   0  |\n",
      "4|  0   0   0   0   0   0  |\n",
      "5|  0   0   0   0   0   0  |\n",
      "6|  2   1   3   3   1   2  |\n",
      "B|  -   -   -   -   -   -  |\n",
      "    0   1   2   3   4   5  \n",
      "PLAYER W WINS!\n",
      "\n"
     ]
    }
   ],
   "source": [
    "game.start()\n",
    "game.play_game(max_turns=1000, verbose=True)"
   ]
  },
  {
   "cell_type": "code",
   "execution_count": 5,
   "id": "18c24b07",
   "metadata": {},
   "outputs": [
    {
     "data": {
      "text/plain": [
       "array([[0., 0., 0., 0., 0., 0.],\n",
       "       [3., 3., 1., 0., 2., 2.],\n",
       "       [0., 0., 0., 0., 0., 0.],\n",
       "       [0., 0., 1., 0., 0., 0.],\n",
       "       [0., 0., 0., 0., 0., 0.],\n",
       "       [0., 0., 0., 0., 0., 0.],\n",
       "       [2., 1., 3., 3., 1., 2.],\n",
       "       [0., 0., 0., 0., 0., 0.]])"
      ]
     },
     "execution_count": 5,
     "metadata": {},
     "output_type": "execute_result"
    }
   ],
   "source": [
    "np.array(game.game_data[0][-1])*24"
   ]
  }
 ],
 "metadata": {
  "kernelspec": {
   "display_name": ".venv",
   "language": "python",
   "name": "python3"
  },
  "language_info": {
   "codemirror_mode": {
    "name": "ipython",
    "version": 3
   },
   "file_extension": ".py",
   "mimetype": "text/x-python",
   "name": "python",
   "nbconvert_exporter": "python",
   "pygments_lexer": "ipython3",
   "version": "3.12.3"
  }
 },
 "nbformat": 4,
 "nbformat_minor": 5
}
